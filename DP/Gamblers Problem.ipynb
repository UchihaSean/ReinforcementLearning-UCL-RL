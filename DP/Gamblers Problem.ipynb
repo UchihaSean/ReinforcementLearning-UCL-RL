{
 "cells": [
  {
   "cell_type": "markdown",
   "metadata": {
    "collapsed": true
   },
   "source": [
    "### This is Example 4.3. Gambler’s Problem from Sutton's book.\n",
    "\n",
    "A gambler has the opportunity to make bets on the outcomes of a sequence of coin flips. \n",
    "If the coin comes up heads, he wins as many dollars as he has staked on that flip; \n",
    "if it is tails, he loses his stake. The game ends when the gambler wins by reaching his goal of $100, \n",
    "or loses by running out of money. \n",
    "\n",
    "On each flip, the gambler must decide what portion of his capital to stake, in integer numbers of dollars. \n",
    "This problem can be formulated as an undiscounted, episodic, finite MDP. \n",
    "\n",
    "The state is the gambler’s capital, s ∈ {1, 2, . . . , 99}.\n",
    "The actions are stakes, a ∈ {0, 1, . . . , min(s, 100 − s)}. \n",
    "The reward is zero on all transitions except those on which the gambler reaches his goal, when it is +1.\n",
    "\n",
    "The state-value function then gives the probability of winning from each state. A policy is a mapping from levels of capital to stakes. The optimal policy maximizes the probability of reaching the goal. Let p_h denote the probability of the coin coming up heads. If p_h is known, then the entire problem is known and it can be solved, for instance, by value iteration.\n"
   ]
  },
  {
   "cell_type": "code",
   "execution_count": 1,
   "metadata": {},
   "outputs": [],
   "source": [
    "import numpy as np\n",
    "import sys\n",
    "import matplotlib.pyplot as plt\n",
    "if \"../\" not in sys.path:\n",
    "  sys.path.append(\"../\") "
   ]
  },
  {
   "cell_type": "markdown",
   "metadata": {
    "collapsed": true
   },
   "source": [
    "\n",
    "### Exercise 4.9 (programming)\n",
    "\n",
    "Implement value iteration for the gambler’s problem and solve it for p_h = 0.25 and p_h = 0.55.\n",
    "\n"
   ]
  },
  {
   "cell_type": "code",
   "execution_count": 2,
   "metadata": {},
   "outputs": [],
   "source": [
    "def value_iteration_for_gamblers(p_h, theta=0.0001, discount_factor=1.0):\n",
    "    \"\"\"\n",
    "    Args:\n",
    "        p_h: Probability of the coin coming up heads\n",
    "    \"\"\"\n",
    "    \n",
    "    def one_step_lookahead(s, V, rewards):\n",
    "        \"\"\"\n",
    "        Helper function to calculate the value for all action in a given state.\n",
    "        \n",
    "        Args:\n",
    "            s: The gambler’s capital. Integer.\n",
    "            V: The vector that contains values at each state. \n",
    "            rewards: The reward vector.\n",
    "                        \n",
    "        Returns:\n",
    "            A vector containing the expected value of each action. \n",
    "            Its length equals to the number of actions.\n",
    "        \"\"\"\n",
    "        \n",
    "        # Implement!\n",
    "        A = [0 for _ in range(101)]\n",
    "        for i in range(1, min(s,100-s)+1):\n",
    "            A[i] = p_h*(rewards[s+i]+discount_factor*V[s+i])+(1-p_h)*(rewards[s-i]+discount_factor*V[s-i])\n",
    "        \n",
    "        return A\n",
    "    \n",
    "    # Implement!\n",
    "    rewards = [0 for _ in range(101)]\n",
    "    rewards[100] = 1\n",
    "    \n",
    "    V = [0 for _ in range(101)]\n",
    "    \n",
    "    while True:\n",
    "        delta = 0\n",
    "        for s in range(1, 100):\n",
    "            A = one_step_lookahead(s, V, rewards)\n",
    "            best_action_value = np.max(A)\n",
    "            delta = max(delta, np.abs(best_action_value-V[s]))\n",
    "            V[s] = best_action_value\n",
    "        \n",
    "        if delta<theta:\n",
    "            break\n",
    "    \n",
    "    policy = [0 for _ in range(101)]\n",
    "    for s in range(1, 100):\n",
    "        A = one_step_lookahead(s, V, rewards)\n",
    "        policy[s] = np.argmax(A)  \n",
    "    \n",
    "    return policy, V"
   ]
  },
  {
   "cell_type": "code",
   "execution_count": 3,
   "metadata": {},
   "outputs": [
    {
     "name": "stdout",
     "output_type": "stream",
     "text": [
      "Optimized Policy:\n",
      "[0, 1, 2, 3, 4, 5, 6, 7, 8, 9, 10, 11, 12, 12, 11, 15, 16, 17, 18, 6, 20, 21, 3, 23, 24, 25, 1, 2, 3, 4, 5, 6, 7, 8, 9, 10, 11, 12, 38, 11, 10, 9, 42, 7, 44, 5, 46, 47, 48, 49, 50, 1, 2, 3, 4, 5, 6, 7, 8, 9, 10, 11, 12, 13, 11, 10, 9, 17, 7, 19, 5, 21, 22, 23, 24, 25, 1, 2, 3, 4, 5, 6, 7, 8, 9, 10, 11, 12, 12, 11, 10, 9, 8, 7, 6, 5, 4, 3, 2, 1, 0]\n",
      "\n",
      "Optimized Value Function:\n",
      "[0, 7.2479248046875e-05, 0.0002899169921875, 0.0006952574476599693, 0.00116010382771492, 0.0017690658569335938, 0.0027810297906398773, 0.004035040736198425, 0.00466214120388031, 0.0055999755859375, 0.007084712386131287, 0.009039640426635742, 0.01112411916255951, 0.015679359436035156, 0.016146443085744977, 0.016951799392700195, 0.01865128055214882, 0.019824981689453125, 0.022404730319976807, 0.027384519577026367, 0.028338849544525146, 0.030493736267089844, 0.036163389682769775, 0.03849530220031738, 0.04449647665023804, 0.0625, 0.06271743774414062, 0.06337007787078619, 0.06458577234297991, 0.06599660590291023, 0.06781353428959846, 0.07084308937191963, 0.07460983231430873, 0.07648846041411161, 0.0793035477399826, 0.08375413715839386, 0.08962254226207733, 0.09587235748767853, 0.10953807830810547, 0.11093932925723493, 0.11336015071719885, 0.11845737423573155, 0.12197766080498695, 0.129716906696558, 0.1446535587310791, 0.14752011303789914, 0.15398324560374022, 0.17099016904830933, 0.17798743420280516, 0.19599057565210387, 0.25, 0.2502174377441406, 0.2508700778707862, 0.2520857723429799, 0.25349660590291023, 0.25531353428959846, 0.25834308937191963, 0.26210983231430873, 0.2639884604141116, 0.2668035477399826, 0.27125413715839386, 0.27712254226207733, 0.28337235748767853, 0.29703807830810547, 0.29843932925723493, 0.30086015071719885, 0.30595737423573155, 0.30947766080498695, 0.317216906696558, 0.3321535587310791, 0.33502011303789914, 0.3414832456037402, 0.3584901690483093, 0.36548743420280516, 0.38349057565210387, 0.4375, 0.43815255840308964, 0.4401224544271827, 0.4437573170289397, 0.4479913453105837, 0.4534406028687954, 0.4625292681157589, 0.4738294969429262, 0.47946803067679866, 0.4879126800224185, 0.5012650847784244, 0.518867626786232, 0.5376179317390779, 0.5786144188023172, 0.5828179877717048, 0.5900804521515965, 0.6053721227071946, 0.6159345100168139, 0.639150720089674, 0.6839608141017379, 0.6925603391136974, 0.7119508825126104, 0.7629706105763034, 0.7839631618844578, 0.8379723714133434, 0]\n",
      "\n"
     ]
    }
   ],
   "source": [
    "policy, v = value_iteration_for_gamblers(0.25)\n",
    "\n",
    "print(\"Optimized Policy:\")\n",
    "print(policy)\n",
    "print(\"\")\n",
    "\n",
    "print(\"Optimized Value Function:\")\n",
    "print(v)\n",
    "print(\"\")"
   ]
  },
  {
   "cell_type": "code",
   "execution_count": 7,
   "metadata": {},
   "outputs": [
    {
     "data": {
      "image/png": "[encoded data removed]",
      "text/plain": [
       "<Figure size 432x288 with 1 Axes>"
      ]
     },
     "metadata": {},
     "output_type": "display_data"
    }
   ],
   "source": [
    "# Plotting Final Policy (action stake) vs State (Capital)\n",
    "\n",
    "# Implement!\n",
    "\n",
    "x = range(100)\n",
    "y = v[:100]\n",
    "plt.plot(x,y)\n",
    "plt.xlabel('Capital')\n",
    "plt.ylabel('Value')\n",
    "plt.title('Final Policy (action stake) vs State (Capital)')\n",
    "\n",
    "plt.show()"
   ]
  },
  {
   "cell_type": "code",
   "execution_count": 9,
   "metadata": {},
   "outputs": [
    {
     "data": {
      "image/png": "[encoded data removed]",
      "text/plain": [
       "<Figure size 432x288 with 1 Axes>"
      ]
     },
     "metadata": {},
     "output_type": "display_data"
    }
   ],
   "source": [
    "# Plotting Capital vs Final Policy\n",
    "\n",
    "# Implement!\n",
    "x = range(100)\n",
    "y = policy[:100]\n",
    "\n",
    "plt.bar(x, y, align='center', alpha=0.5)\n",
    "plt.xlabel('capital')\n",
    "plt.ylabel('final policy')\n",
    "plt.title('Capital vs Final policy')\n",
    "plt.show()\n",
    "\n"
   ]
  },
  {
   "cell_type": "code",
   "execution_count": null,
   "metadata": {},
   "outputs": [],
   "source": []
  }
 ],
 "metadata": {
  "kernelspec": {
   "display_name": "Python 3",
   "language": "python",
   "name": "python3"
  },
  "language_info": {
   "codemirror_mode": {
    "name": "ipython",
    "version": 3
   },
   "file_extension": ".py",
   "mimetype": "text/x-python",
   "name": "python",
   "nbconvert_exporter": "python",
   "pygments_lexer": "ipython3",
   "version": "3.6.5"
  }
 },
 "nbformat": 4,
 "nbformat_minor": 1
}
